{
 "cells": [
  {
   "cell_type": "markdown",
   "metadata": {},
   "source": [
    "# SQL Assignment\n",
    "#### In this assignment you will be solving a series of SQL Puzzles using the sqlalchemy library. \n",
    "#### You will be querying from a database consisting of three tables regarding tweets. A description of these tables along with their individual schema and print outs are provided below.\n",
    "#### Simply run the first 6 cells below, they are just there for setup purposes"
   ]
  },
  {
   "cell_type": "code",
   "execution_count": null,
   "metadata": {},
   "outputs": [],
   "source": [
    "import pandas as pd\n",
    "import numpy as np\n",
    "from pathlib import Path\n",
    "import sqlalchemy"
   ]
  },
  {
   "cell_type": "code",
   "execution_count": null,
   "metadata": {},
   "outputs": [],
   "source": [
    "data_dir = Path(\"C:\\\\Users\\\\rvand\\\\Downloads\\\\Twitter Database.db\")"
   ]
  },
  {
   "cell_type": "code",
   "execution_count": null,
   "metadata": {},
   "outputs": [],
   "source": [
    "data_dir"
   ]
  },
  {
   "cell_type": "code",
   "execution_count": null,
   "metadata": {},
   "outputs": [],
   "source": [
    "engine = sqlalchemy.create_engine(f\"sqlite:///{data_dir}\")"
   ]
  },
  {
   "cell_type": "code",
   "execution_count": null,
   "metadata": {},
   "outputs": [],
   "source": [
    "connection = engine.connect()"
   ]
  },
  {
   "cell_type": "code",
   "execution_count": null,
   "metadata": {},
   "outputs": [],
   "source": [
    "engine.table_names()"
   ]
  },
  {
   "cell_type": "markdown",
   "metadata": {},
   "source": [
    "### Description of the tables\n",
    "The 'dataset' table has a row for every tweet from a politician regarding the 2020 Election\n",
    "\n",
    "The 'hashtag_donaldtrump' table has a row for every tweet written about Donald Trump\n",
    "\n",
    "The 'hashtag_joebiden' table has a row for every tweet written about Joe Biden"
   ]
  },
  {
   "cell_type": "markdown",
   "metadata": {},
   "source": [
    "### Here we are able to access the schema for the tables that we have in our database"
   ]
  },
  {
   "cell_type": "code",
   "execution_count": null,
   "metadata": {},
   "outputs": [],
   "source": [
    "for exp in connection.execute('SELECT sql FROM sqlite_master;'):\n",
    "    print(exp[0])"
   ]
  },
  {
   "cell_type": "markdown",
   "metadata": {},
   "source": [
    "### Here's what our tables look like:"
   ]
  },
  {
   "cell_type": "code",
   "execution_count": null,
   "metadata": {},
   "outputs": [],
   "source": [
    "query = \"\"\"SELECT * FROM dataset LIMIT 5;\"\"\"\n",
    "pd.read_sql(query, engine)"
   ]
  },
  {
   "cell_type": "code",
   "execution_count": null,
   "metadata": {},
   "outputs": [],
   "source": [
    "query_1 = \"\"\"SELECT * FROM hashtag_donaldtrump LIMIT 5;\"\"\"\n",
    "pd.read_sql(query_1, engine)"
   ]
  },
  {
   "cell_type": "code",
   "execution_count": null,
   "metadata": {},
   "outputs": [],
   "source": [
    "query_2 = \"\"\"SELECT * FROM hashtag_joebiden LIMIT 5\"\"\"\n",
    "pd.read_sql(query_2, engine)"
   ]
  },
  {
   "cell_type": "markdown",
   "metadata": {},
   "source": [
    "### Part 1: Using SQL to explore our data\n",
    "SQL can be a great way to explore the tables in our database and learn a little more about them. In this section you might need to use clauses such as WHERE, ORDER BY, and LIMIT along with arithmetic operations."
   ]
  },
  {
   "cell_type": "markdown",
   "metadata": {},
   "source": [
    "i) How many records are in the 'dataset' table?"
   ]
  },
  {
   "cell_type": "code",
   "execution_count": null,
   "metadata": {},
   "outputs": [],
   "source": [
    "beginner_query = \"\"\"\"\"\"\n",
    "pd.read_sql(beginner_query, engine)"
   ]
  },
  {
   "cell_type": "markdown",
   "metadata": {},
   "source": [
    "ii) Find the total number of tweets about Donald Trump that had more than 20 likes"
   ]
  },
  {
   "cell_type": "code",
   "execution_count": null,
   "metadata": {},
   "outputs": [],
   "source": [
    "warmup_query = \"\"\"\"\"\"\n",
    "pd.read_sql(warmup_query, engine)"
   ]
  },
  {
   "cell_type": "markdown",
   "metadata": {},
   "source": [
    "iii) Fill in the quotations for \"avg_query\" with the SQL query that would return the average number of likes for the Donald Trump tweets"
   ]
  },
  {
   "cell_type": "code",
   "execution_count": null,
   "metadata": {},
   "outputs": [],
   "source": [
    "avg_query = \"\"\"\"\"\"\n",
    "pd.read_sql(avg_query, engine)"
   ]
  },
  {
   "cell_type": "markdown",
   "metadata": {},
   "source": [
    "iv) Repeat for the biden tweets"
   ]
  },
  {
   "cell_type": "code",
   "execution_count": null,
   "metadata": {},
   "outputs": [],
   "source": [
    "avg_joe = \"\"\"\"\"\"\n",
    "pd.read_sql(avg_joe, engine)"
   ]
  },
  {
   "cell_type": "markdown",
   "metadata": {},
   "source": [
    "v) Repeat the above two queries, but for the retweet counts"
   ]
  },
  {
   "cell_type": "code",
   "execution_count": null,
   "metadata": {},
   "outputs": [],
   "source": [
    "retweet_trump = \"\"\"\"\"\"\n",
    "pd.read_sql(retweet_trump, engine)"
   ]
  },
  {
   "cell_type": "code",
   "execution_count": null,
   "metadata": {},
   "outputs": [],
   "source": [
    "retweet_biden = \"\"\"\"\"\"\n",
    "pd.read_sql(retweet_biden, engine)"
   ]
  },
  {
   "cell_type": "markdown",
   "metadata": {},
   "source": [
    "vi) Hm... these average retweet counts seem a little crazy. Why do you think this is? Begin with the Donald Trump tweets and provide some queries to explain the nature of this extremely high average. $\\textbf{Use as many cells as needed}$"
   ]
  },
  {
   "cell_type": "code",
   "execution_count": null,
   "metadata": {},
   "outputs": [],
   "source": []
  },
  {
   "cell_type": "code",
   "execution_count": null,
   "metadata": {},
   "outputs": [],
   "source": []
  },
  {
   "cell_type": "markdown",
   "metadata": {},
   "source": [
    "vii) Explore the data and think of a way in which you could appropriately remove the outliers within this column to get a more reliable figure. Explain what you did and why (use as many cells as you need)."
   ]
  },
  {
   "cell_type": "code",
   "execution_count": null,
   "metadata": {},
   "outputs": [],
   "source": []
  },
  {
   "cell_type": "code",
   "execution_count": null,
   "metadata": {},
   "outputs": [],
   "source": []
  },
  {
   "cell_type": "markdown",
   "metadata": {},
   "source": [
    "viii) Repeat your above process, but for the Biden tweets"
   ]
  },
  {
   "cell_type": "code",
   "execution_count": null,
   "metadata": {},
   "outputs": [],
   "source": []
  },
  {
   "cell_type": "code",
   "execution_count": null,
   "metadata": {},
   "outputs": [],
   "source": []
  },
  {
   "cell_type": "markdown",
   "metadata": {},
   "source": [
    "ix) Tricky puzzle: Use a SQL Query to derive the variance of the retweet_count for the Trump tweets. \n",
    "\n",
    "$\\textbf{Hint:}$ The version of SQL supported by sqlalchemy does not have a built-in VARIANCE() function therefore you will have to get a little creative."
   ]
  },
  {
   "cell_type": "code",
   "execution_count": null,
   "metadata": {},
   "outputs": [],
   "source": [
    "var_query = \"\"\"\"\"\"\n",
    "pd.read_sql(var_query, engine)"
   ]
  },
  {
   "cell_type": "markdown",
   "metadata": {},
   "source": [
    "x) Final Boss Puzzle\n",
    "\n",
    "Part 1: Find the number of tweets that are below the average retweet count that you found in part vii for the Trump tweets"
   ]
  },
  {
   "cell_type": "code",
   "execution_count": null,
   "metadata": {},
   "outputs": [],
   "source": [
    "below_average = \"\"\"\"\"\"\n",
    "pd.read_sql(below_average, engine)"
   ]
  },
  {
   "cell_type": "markdown",
   "metadata": {},
   "source": [
    "Part 2: Find the ratio between the number of tweets, excluding the outliers you found in part vii, that get below average retweet counts and the total number of tweets, excluding the outliers you found in part vii. \n",
    "\n",
    "$\\textbf{Note:}$ sqlalchemy does not support '/' division, so just have your query return the numerator and denominator as separate values in a table. Make sure the ratio between the two values is equal to .904332565"
   ]
  },
  {
   "cell_type": "code",
   "execution_count": null,
   "metadata": {},
   "outputs": [],
   "source": [
    "ratio_query = \"\"\"\"\"\"\n",
    "pd.read_sql(ratio_query, engine)"
   ]
  },
  {
   "cell_type": "markdown",
   "metadata": {},
   "source": [
    "### Part 2: Joins\n",
    "In this section you will need to use INNER JOIN, LEFT JOIN/RIGHT JOIN, GROUP BY, DISTINCT, ORDER BY, Aliases, as well as Subqueries."
   ]
  },
  {
   "cell_type": "markdown",
   "metadata": {},
   "source": [
    "i) Basic Inner Join: Find all of the politicians who tweeted about Donald Trump. Make sure there is only one row per politician. \n",
    "\n",
    "$\\textbf{Answer this question first and use as many cells as needed:}$ Which column should we be joining on and why? How can you tell?\n",
    "\n",
    "$\\textbf{Next}$ fill in the solution_join with the query that joins on the two columns that you have deemed fit to be joined on.\n",
    "\n",
    "$\\textbf{Hint:}$ how can you use other fields to assess the validity of a column to join on between the two tables when the two tables may have multiple columns that can be joined on?"
   ]
  },
  {
   "cell_type": "code",
   "execution_count": null,
   "metadata": {},
   "outputs": [],
   "source": []
  },
  {
   "cell_type": "code",
   "execution_count": null,
   "metadata": {},
   "outputs": [],
   "source": []
  },
  {
   "cell_type": "code",
   "execution_count": null,
   "metadata": {},
   "outputs": [],
   "source": [
    "solution_join = \"\"\"\"\"\"\n",
    "pd.read_sql(solution_join, engine)"
   ]
  },
  {
   "cell_type": "markdown",
   "metadata": {},
   "source": [
    "$\\textbf{True or False:}$ if we were to switch the order of the tables in the above query, the output would change. Explain your answer."
   ]
  },
  {
   "cell_type": "markdown",
   "metadata": {},
   "source": []
  },
  {
   "cell_type": "markdown",
   "metadata": {},
   "source": [
    "ii) Write a query listing the names of the politicians who tweeted about Biden. One row per politician."
   ]
  },
  {
   "cell_type": "code",
   "execution_count": null,
   "metadata": {},
   "outputs": [],
   "source": [
    "biden_join = \"\"\"\"\"\"\n",
    "pd.read_sql(biden_join, engine)"
   ]
  },
  {
   "cell_type": "markdown",
   "metadata": {},
   "source": [
    "iii) How many records do the Biden tweets table and the politician tweets table share? Answer using a query."
   ]
  },
  {
   "cell_type": "code",
   "execution_count": null,
   "metadata": {},
   "outputs": [],
   "source": [
    "biden_share_query = \"\"\"\"\"\"\n",
    "pd.read_sql(biden_share_query, engine)"
   ]
  },
  {
   "cell_type": "markdown",
   "metadata": {},
   "source": [
    "iv) How many records do the Trump tweets table and politician tweets table share? Answer using a query."
   ]
  },
  {
   "cell_type": "code",
   "execution_count": null,
   "metadata": {},
   "outputs": [],
   "source": [
    "trump_share_query = \"\"\"\"\"\"\n",
    "pd.read_sql(trump_share_query, engine)"
   ]
  },
  {
   "cell_type": "markdown",
   "metadata": {},
   "source": [
    "v) Now return the number of tweets, in descending order, for each politician that tweeted about Trump. Make sure there are no duplicate values in your result."
   ]
  },
  {
   "cell_type": "code",
   "execution_count": null,
   "metadata": {},
   "outputs": [],
   "source": [
    "num_tweets_join = \"\"\"\"\"\"\n",
    "pd.read_sql(num_tweets_join, engine)"
   ]
  },
  {
   "cell_type": "markdown",
   "metadata": {},
   "source": [
    "vi) Write a query that results in the average number of retweets, in ascending order, that each politician received when tweeting about Donald Trump along with their Political Party. Again, make sure there are no duplicate values in your result."
   ]
  },
  {
   "cell_type": "code",
   "execution_count": null,
   "metadata": {},
   "outputs": [],
   "source": [
    "comp_join = \"\"\"\"\"\"\n",
    "pd.read_sql(comp_join, engine)"
   ]
  },
  {
   "cell_type": "markdown",
   "metadata": {},
   "source": [
    "vii) Write a query that results in a table showing the politicians who tweeted about Trump and Biden during the election, make sure there are no duplicate values in your result.\n",
    "\n",
    "$\\textbf{Note:}$ This query can be written many different ways, but you can cross-reference your two resulting tables in parts i and ii to make sure that you have a correct output."
   ]
  },
  {
   "cell_type": "code",
   "execution_count": null,
   "metadata": {},
   "outputs": [],
   "source": [
    "both_candidate_query = \"\"\"\"\"\"\n",
    "pd.read_sql(both_candidate_query, engine)"
   ]
  },
  {
   "cell_type": "markdown",
   "metadata": {},
   "source": [
    "viii) Part 1: Write a query such that it returns a table with all of the politicians who tweeted during the election along with the average retweet count and average likes of those who tweeted about Donald Trump. Order first by retweet count in descending order breaking ties by Name in descending order. Make sure there is one row per Politician."
   ]
  },
  {
   "cell_type": "code",
   "execution_count": null,
   "metadata": {},
   "outputs": [],
   "source": [
    "solution_pt1 = \"\"\"\"\"\"\n",
    "pd.read_sql(solution_pt1, engine)"
   ]
  },
  {
   "cell_type": "markdown",
   "metadata": {},
   "source": [
    "Part 2: Write a query that can assure you that your answer above has the correct number of records."
   ]
  },
  {
   "cell_type": "code",
   "execution_count": null,
   "metadata": {},
   "outputs": [],
   "source": [
    "check_query = \"\"\"\"\"\"\n",
    "pd.read_sql(check_query, engine)"
   ]
  },
  {
   "cell_type": "code",
   "execution_count": null,
   "metadata": {},
   "outputs": [],
   "source": []
  }
 ],
 "metadata": {
  "kernelspec": {
   "display_name": "Python 3",
   "language": "python",
   "name": "python3"
  },
  "language_info": {
   "codemirror_mode": {
    "name": "ipython",
    "version": 3
   },
   "file_extension": ".py",
   "mimetype": "text/x-python",
   "name": "python",
   "nbconvert_exporter": "python",
   "pygments_lexer": "ipython3",
   "version": "3.8.3"
  }
 },
 "nbformat": 4,
 "nbformat_minor": 4
}
